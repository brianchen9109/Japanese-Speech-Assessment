{
 "cells": [
  {
   "cell_type": "code",
   "execution_count": 2,
   "metadata": {},
   "outputs": [
    {
     "name": "stderr",
     "output_type": "stream",
     "text": [
      "c:\\Users\\admin\\anaconda3\\envs\\voice\\lib\\site-packages\\tqdm\\auto.py:21: TqdmWarning: IProgress not found. Please update jupyter and ipywidgets. See https://ipywidgets.readthedocs.io/en/stable/user_install.html\n",
      "  from .autonotebook import tqdm as notebook_tqdm\n"
     ]
    }
   ],
   "source": [
    "from transformers import WhisperProcessor, WhisperForConditionalGeneration"
   ]
  },
  {
   "cell_type": "code",
   "execution_count": 3,
   "metadata": {},
   "outputs": [
    {
     "name": "stderr",
     "output_type": "stream",
     "text": [
      "Special tokens have been added in the vocabulary, make sure the associated word embeddings are fine-tuned or trained.\n"
     ]
    }
   ],
   "source": [
    "# load model and processor\n",
    "processor = WhisperProcessor.from_pretrained(\"jakeyoo/whisper-medium-ja\")\n",
    "model = WhisperForConditionalGeneration.from_pretrained(\"jakeyoo/whisper-medium-ja\")\n",
    "model.config.forced_decoder_ids = None"
   ]
  },
  {
   "cell_type": "code",
   "execution_count": 4,
   "metadata": {},
   "outputs": [],
   "source": [
    "import pandas as pd\n",
    "import librosa\n",
    "#convert dataset Function library\n",
    "import pyarrow as pa\n",
    "import pyarrow.dataset as ds\n",
    "import pandas as pd\n",
    "from datasets import Dataset"
   ]
  },
  {
   "cell_type": "code",
   "execution_count": 5,
   "metadata": {},
   "outputs": [
    {
     "name": "stdout",
     "output_type": "stream",
     "text": [
      "                                                 path\n",
      "0   ..\\audio\\cliped_audio\\B_class\\B_class_audio_1\\...\n",
      "1   ..\\audio\\cliped_audio\\A_class\\A_class_audio_1\\...\n",
      "2   ..\\audio\\cliped_audio\\A_class\\A_class_audio_1\\...\n",
      "3   ..\\audio\\cliped_audio\\A_class\\A_class_audio_1\\...\n",
      "4   ..\\audio\\cliped_audio\\A_class\\A_class_audio_1\\...\n",
      "5   ..\\audio\\cliped_audio\\A_class\\A_class_audio_1\\...\n",
      "6   ..\\audio\\cliped_audio\\A_class\\A_class_audio_1\\...\n",
      "7   ..\\audio\\cliped_audio\\A_class\\A_class_audio_1\\...\n",
      "8   ..\\audio\\cliped_audio\\A_class\\A_class_audio_1\\...\n",
      "9   ..\\audio\\cliped_audio\\A_class\\A_class_audio_1\\...\n",
      "10  ..\\audio\\cliped_audio\\A_class\\A_class_audio_1\\...\n",
      "11  ..\\audio\\cliped_audio\\A_class\\A_class_audio_1\\...\n",
      "12  ..\\audio\\cliped_audio\\A_class\\A_class_audio_1\\...\n",
      "13  ..\\audio\\cliped_audio\\A_class\\A_class_audio_1\\...\n",
      "14  ..\\audio\\cliped_audio\\A_class\\A_class_audio_1\\...\n",
      "15  ..\\audio\\cliped_audio\\A_class\\A_class_audio_1\\...\n",
      "16  ..\\audio\\cliped_audio\\A_class\\A_class_audio_1\\...\n",
      "17  ..\\audio\\cliped_audio\\A_class\\A_class_audio_1\\...\n",
      "18  ..\\audio\\cliped_audio\\A_class\\A_class_audio_1\\...\n",
      "19  ..\\audio\\cliped_audio\\A_class\\A_class_audio_1\\...\n",
      "20  ..\\audio\\cliped_audio\\A_class\\A_class_audio_1\\...\n",
      "21  ..\\audio\\cliped_audio\\A_class\\A_class_audio_1\\...\n",
      "22  ..\\audio\\cliped_audio\\A_class\\A_class_audio_1\\...\n",
      "23  ..\\audio\\cliped_audio\\A_class\\A_class_audio_1\\...\n",
      "24  ..\\audio\\cliped_audio\\A_class\\A_class_audio_1\\...\n",
      "['..\\\\audio\\\\cliped_audio\\\\B_class\\\\B_class_audio_1\\\\あなた.mp3', '..\\\\audio\\\\cliped_audio\\\\A_class\\\\A_class_audio_1\\\\～さい.mp3', '..\\\\audio\\\\cliped_audio\\\\A_class\\\\A_class_audio_1\\\\～さい.mp3', '..\\\\audio\\\\cliped_audio\\\\A_class\\\\A_class_audio_1\\\\あなた.mp3', '..\\\\audio\\\\cliped_audio\\\\A_class\\\\A_class_audio_1\\\\あのかた.mp3', '..\\\\audio\\\\cliped_audio\\\\A_class\\\\A_class_audio_1\\\\あのひと.mp3', '..\\\\audio\\\\cliped_audio\\\\A_class\\\\A_class_audio_1\\\\いしゃ.mp3', '..\\\\audio\\\\cliped_audio\\\\A_class\\\\A_class_audio_1\\\\エンジニア.mp3', '..\\\\audio\\\\cliped_audio\\\\A_class\\\\A_class_audio_1\\\\おいくつ.mp3', '..\\\\audio\\\\cliped_audio\\\\A_class\\\\A_class_audio_1\\\\かいしゃいん.mp3', '..\\\\audio\\\\cliped_audio\\\\A_class\\\\A_class_audio_1\\\\がくせい.mp3', '..\\\\audio\\\\cliped_audio\\\\A_class\\\\A_class_audio_1\\\\きょうし.mp3', '..\\\\audio\\\\cliped_audio\\\\A_class\\\\A_class_audio_1\\\\ぎんこういん.mp3', '..\\\\audio\\\\cliped_audio\\\\A_class\\\\A_class_audio_1\\\\けんきゅうしゃ.mp3', '..\\\\audio\\\\cliped_audio\\\\A_class\\\\A_class_audio_1\\\\しゃいん.mp3', '..\\\\audio\\\\cliped_audio\\\\A_class\\\\A_class_audio_1\\\\せんせい.mp3', '..\\\\audio\\\\cliped_audio\\\\A_class\\\\A_class_audio_1\\\\だいがく.mp3', '..\\\\audio\\\\cliped_audio\\\\A_class\\\\A_class_audio_1\\\\だれ.mp3', '..\\\\audio\\\\cliped_audio\\\\A_class\\\\A_class_audio_1\\\\でんき.mp3', '..\\\\audio\\\\cliped_audio\\\\A_class\\\\A_class_audio_1\\\\どなた.mp3', '..\\\\audio\\\\cliped_audio\\\\A_class\\\\A_class_audio_1\\\\なんさい.mp3', '..\\\\audio\\\\cliped_audio\\\\A_class\\\\A_class_audio_1\\\\びょういん.mp3', '..\\\\audio\\\\cliped_audio\\\\A_class\\\\A_class_audio_1\\\\みなさん.mp3', '..\\\\audio\\\\cliped_audio\\\\A_class\\\\A_class_audio_1\\\\わたし.mp3', '..\\\\audio\\\\cliped_audio\\\\A_class\\\\A_class_audio_1\\\\わたしたち.mp3']\n"
     ]
    },
    {
     "name": "stderr",
     "output_type": "stream",
     "text": [
      "Map:   0%|          | 0/25 [00:00<?, ? examples/s]"
     ]
    },
    {
     "name": "stderr",
     "output_type": "stream",
     "text": [
      "Map: 100%|██████████| 25/25 [00:01<00:00, 18.97 examples/s]\n"
     ]
    }
   ],
   "source": [
    "audio_paths = [ \"..\\\\audio\\cliped_audio\\B_class\\B_class_audio_1\\あなた.mp3\",\n",
    "                \"..\\\\audio\\cliped_audio\\A_class\\A_class_audio_1\\～さい.mp3\",\n",
    "                \"..\\\\audio\\cliped_audio\\A_class\\A_class_audio_1\\あなた.mp3\",\n",
    "                \"..\\\\audio\\cliped_audio\\A_class\\A_class_audio_1\\あのかた.mp3\",\n",
    "                \"..\\\\audio\\cliped_audio\\A_class\\A_class_audio_1\\あのひと.mp3\",\n",
    "                \"..\\\\audio\\cliped_audio\\A_class\\A_class_audio_1\\いしゃ.mp3\",\n",
    "                \"..\\\\audio\\cliped_audio\\A_class\\A_class_audio_1\\エンジニア.mp3\",\n",
    "                \"..\\\\audio\\cliped_audio\\A_class\\A_class_audio_1\\おいくつ.mp3\",\n",
    "                \"..\\\\audio\\cliped_audio\\A_class\\A_class_audio_1\\かいしゃいん.mp3\",\n",
    "                \"..\\\\audio\\cliped_audio\\A_class\\A_class_audio_1\\がくせい.mp3\",\n",
    "                \"..\\\\audio\\cliped_audio\\A_class\\A_class_audio_1\\きょうし.mp3\",\n",
    "                \"..\\\\audio\\cliped_audio\\A_class\\A_class_audio_1\\ぎんこういん.mp3\",\n",
    "                \"..\\\\audio\\cliped_audio\\A_class\\A_class_audio_1\\けんきゅうしゃ.mp3\",\n",
    "                \"..\\\\audio\\cliped_audio\\A_class\\A_class_audio_1\\しゃいん.mp3\",\n",
    "                \"..\\\\audio\\cliped_audio\\A_class\\A_class_audio_1\\せんせい.mp3\",\n",
    "                \"..\\\\audio\\cliped_audio\\A_class\\A_class_audio_1\\だいがく.mp3\",\n",
    "                \"..\\\\audio\\cliped_audio\\A_class\\A_class_audio_1\\だれ.mp3\",\n",
    "                \"..\\\\audio\\cliped_audio\\A_class\\A_class_audio_1\\でんき.mp3\",\n",
    "                \"..\\\\audio\\cliped_audio\\A_class\\A_class_audio_1\\どなた.mp3\",\n",
    "                \"..\\\\audio\\cliped_audio\\A_class\\A_class_audio_1\\なんさい.mp3\",\n",
    "                \"..\\\\audio\\cliped_audio\\A_class\\A_class_audio_1\\びょういん.mp3\",\n",
    "                \"..\\\\audio\\cliped_audio\\A_class\\A_class_audio_1\\みなさん.mp3\",\n",
    "                \"..\\\\audio\\cliped_audio\\A_class\\A_class_audio_1\\わたし.mp3\",\n",
    "                \"..\\\\audio\\cliped_audio\\A_class\\A_class_audio_1\\わたしたち.mp3\"]\n",
    "\n",
    "test_dataset = {\"path\":audio_paths}\n",
    "test_dataset = pd.DataFrame(test_dataset)\n",
    "print(test_dataset)\n",
    "test_dataset = Dataset(pa.Table.from_pandas(test_dataset))\n",
    "print(test_dataset[\"path\"])\n",
    "\n",
    "def speech_file_to_array_fn(batch):\n",
    "    speech_array, sampling_rate = librosa.load(batch[\"path\"], sr=16_000)\n",
    "    batch[\"array\"] = speech_array\n",
    "    #batch[\"sentence\"] = batch[\"sentence\"].upper()\n",
    "    return batch\n",
    "\n",
    "test_dataset = test_dataset.map(speech_file_to_array_fn)\n",
    "input_features = processor(test_dataset[\"array\"], sampling_rate=16_000, return_tensors=\"pt\").input_features "
   ]
  },
  {
   "cell_type": "code",
   "execution_count": 6,
   "metadata": {},
   "outputs": [
    {
     "data": {
      "text/plain": [
       "tensor([[50258, 50266, 50359, 50363,  3590, 42847,  1543, 50257, 50257, 50257,\n",
       "         50257],\n",
       "        [50258, 50266, 50359, 50363, 19557,  1543, 50257, 50257, 50257, 50257,\n",
       "         50257],\n",
       "        [50258, 50266, 50359, 50363, 19557,  1543, 50257, 50257, 50257, 50257,\n",
       "         50257],\n",
       "        [50258, 50266, 50359, 50363,  3590, 42847,  1543, 50257, 50257, 50257,\n",
       "         50257],\n",
       "        [50258, 50266, 50359, 50363, 24910,  9249,  1543, 50257, 50257, 50257,\n",
       "         50257],\n",
       "        [50258, 50266, 50359, 50363, 24910,  4035,  1543, 50257, 50257, 50257,\n",
       "         50257],\n",
       "        [50258, 50266, 50359, 50363,  2257,  5676,   232,  1543, 50257, 50257,\n",
       "         50257],\n",
       "        [50258, 50266, 50359, 50363, 26215,  4824, 14655, 34737, 12817,  1543,\n",
       "         50257],\n",
       "        [50258, 50266, 50359, 50363, 33261,  6134,  9335,  1543, 50257, 50257,\n",
       "         50257],\n",
       "        [50258, 50266, 50359, 50363, 12949, 27658, 12949, 50257, 50257, 50257,\n",
       "         50257],\n",
       "        [50258, 50266, 50359, 50363, 29618,  8244,  1543, 50257, 50257, 50257,\n",
       "         50257],\n",
       "        [50258, 50266, 50359, 50363, 21936, 16276,  1543, 50257, 50257, 50257,\n",
       "         50257],\n",
       "        [50258, 50266, 50359, 50363, 19683, 10415,   123, 49061,  1543, 50257,\n",
       "         50257],\n",
       "        [50258, 50266, 50359, 50363, 23230,   242, 44704, 12444,  1543, 50257,\n",
       "         50257],\n",
       "        [50258, 50266, 50359, 50363,  4438, 11160, 50257, 50257, 50257, 50257,\n",
       "         50257],\n",
       "        [50258, 50266, 50359, 50363, 33083,  1543, 50257, 50257, 50257, 50257,\n",
       "         50257],\n",
       "        [50258, 50266, 50359, 50363,  3582, 27869, 29618,  1543, 50257, 50257,\n",
       "         50257],\n",
       "        [50258, 50266, 50359, 50363, 20757,   171,   120,   253, 50257, 50257,\n",
       "         50257],\n",
       "        [50258, 50266, 50359, 50363,  6135, 25870,  1543, 50257, 50257, 50257,\n",
       "         50257],\n",
       "        [50258, 50266, 50359, 50363, 18395,  3203, 10102,   171,   120,   253,\n",
       "         50257],\n",
       "        [50258, 50266, 50359, 50363, 11906,  4287,   111,   171,   120,   223,\n",
       "         50257],\n",
       "        [50258, 50362, 50257, 50257, 50257, 50257, 50257, 50257, 50257, 50257,\n",
       "         50257],\n",
       "        [50258, 50266, 50359, 50363, 41574,  1231, 50257, 50257, 50257, 50257,\n",
       "         50257],\n",
       "        [50258, 50266, 50359, 50363,  9206,  3368,  2849,  1543, 50257, 50257,\n",
       "         50257],\n",
       "        [50258, 50266, 50359, 50363, 20083,  3368,  6574,  1543, 50257, 50257,\n",
       "         50257]])"
      ]
     },
     "execution_count": 6,
     "metadata": {},
     "output_type": "execute_result"
    }
   ],
   "source": [
    "# generate token ids\n",
    "predicted_ids = model.generate(input_features)\n",
    "predicted_ids"
   ]
  },
  {
   "cell_type": "code",
   "execution_count": 7,
   "metadata": {},
   "outputs": [
    {
     "name": "stdout",
     "output_type": "stream",
     "text": [
      "transcription: ['<|startoftranscript|><|ja|><|transcribe|><|notimestamps|>あなた。<|endoftext|><|endoftext|><|endoftext|><|endoftext|>', '<|startoftranscript|><|ja|><|transcribe|><|notimestamps|>さい。<|endoftext|><|endoftext|><|endoftext|><|endoftext|><|endoftext|>', '<|startoftranscript|><|ja|><|transcribe|><|notimestamps|>さい。<|endoftext|><|endoftext|><|endoftext|><|endoftext|><|endoftext|>', '<|startoftranscript|><|ja|><|transcribe|><|notimestamps|>あなた。<|endoftext|><|endoftext|><|endoftext|><|endoftext|>', '<|startoftranscript|><|ja|><|transcribe|><|notimestamps|>あの方。<|endoftext|><|endoftext|><|endoftext|><|endoftext|>', '<|startoftranscript|><|ja|><|transcribe|><|notimestamps|>あの人。<|endoftext|><|endoftext|><|endoftext|><|endoftext|>', '<|startoftranscript|><|ja|><|transcribe|><|notimestamps|>一冊。<|endoftext|><|endoftext|><|endoftext|>', '<|startoftranscript|><|ja|><|transcribe|><|notimestamps|>エンジニア。<|endoftext|>', '<|startoftranscript|><|ja|><|transcribe|><|notimestamps|>おいくつ。<|endoftext|><|endoftext|><|endoftext|>', '<|startoftranscript|><|ja|><|transcribe|><|notimestamps|>会社会<|endoftext|><|endoftext|><|endoftext|><|endoftext|>', '<|startoftranscript|><|ja|><|transcribe|><|notimestamps|>学生。<|endoftext|><|endoftext|><|endoftext|><|endoftext|>', '<|startoftranscript|><|ja|><|transcribe|><|notimestamps|>教師。<|endoftext|><|endoftext|><|endoftext|><|endoftext|>', '<|startoftranscript|><|ja|><|transcribe|><|notimestamps|>原稿令。<|endoftext|><|endoftext|>', '<|startoftranscript|><|ja|><|transcribe|><|notimestamps|>研究者。<|endoftext|><|endoftext|>', '<|startoftranscript|><|ja|><|transcribe|><|notimestamps|>下位<|endoftext|><|endoftext|><|endoftext|><|endoftext|><|endoftext|>', '<|startoftranscript|><|ja|><|transcribe|><|notimestamps|>先生。<|endoftext|><|endoftext|><|endoftext|><|endoftext|><|endoftext|>', '<|startoftranscript|><|ja|><|transcribe|><|notimestamps|>大英学。<|endoftext|><|endoftext|><|endoftext|>', '<|startoftranscript|><|ja|><|transcribe|><|notimestamps|>誰？<|endoftext|><|endoftext|><|endoftext|>', '<|startoftranscript|><|ja|><|transcribe|><|notimestamps|>天気。<|endoftext|><|endoftext|><|endoftext|><|endoftext|>', '<|startoftranscript|><|ja|><|transcribe|><|notimestamps|>どうなった？<|endoftext|>', '<|startoftranscript|><|ja|><|transcribe|><|notimestamps|>何歳！<|endoftext|>', '<|startoftranscript|><|nocaptions|><|endoftext|><|endoftext|><|endoftext|><|endoftext|><|endoftext|><|endoftext|><|endoftext|><|endoftext|><|endoftext|>', '<|startoftranscript|><|ja|><|transcribe|><|notimestamps|>皆さん、<|endoftext|><|endoftext|><|endoftext|><|endoftext|><|endoftext|>', '<|startoftranscript|><|ja|><|transcribe|><|notimestamps|>わたし。<|endoftext|><|endoftext|><|endoftext|>', '<|startoftranscript|><|ja|><|transcribe|><|notimestamps|>私たち。<|endoftext|><|endoftext|><|endoftext|>']\n",
      "transcription: ['あなた。', 'さい。', 'さい。', 'あなた。', 'あの方。', 'あの人。', '一冊。', 'エンジニア。', 'おいくつ。', '会社会', '学生。', '教師。', '原稿令。', '研究者。', '下位', '先生。', '大英学。', '誰？', '天気。', 'どうなった？', '何歳！', '', '皆さん、', 'わたし。', '私たち。']\n"
     ]
    }
   ],
   "source": [
    "# decode token ids to text\n",
    "transcription = processor.batch_decode(predicted_ids, skip_special_tokens=False)\n",
    "print(\"transcription:\",transcription)\n",
    "transcription = processor.batch_decode(predicted_ids, skip_special_tokens=True)\n",
    "print(\"transcription:\",transcription)\n"
   ]
  },
  {
   "cell_type": "code",
   "execution_count": null,
   "metadata": {},
   "outputs": [],
   "source": [
    "sentence = [\"あなた\",\"さい\",\"あなた\",\"あのかた\",\"あのひと\",\"いしゃ\",\"エンジニア\",\"おいくつ\",\n",
    "            \"かいしゃいん\",\"がくせい\",\"きょうし\",\"ぎんこういん\",\"けんきゅうしゃ\",\"しゃいん\",\n",
    "            \"せんせい\",\"だいがく\",\"だれ\",\"でんき\",\"どなた\",\"なんさい\",\"びょういん\",\"みなさん\",\n",
    "            \"わたし\",\"わたしたち\"]"
   ]
  }
 ],
 "metadata": {
  "kernelspec": {
   "display_name": "voice",
   "language": "python",
   "name": "python3"
  },
  "language_info": {
   "codemirror_mode": {
    "name": "ipython",
    "version": 3
   },
   "file_extension": ".py",
   "mimetype": "text/x-python",
   "name": "python",
   "nbconvert_exporter": "python",
   "pygments_lexer": "ipython3",
   "version": "3.8.18"
  }
 },
 "nbformat": 4,
 "nbformat_minor": 2
}
