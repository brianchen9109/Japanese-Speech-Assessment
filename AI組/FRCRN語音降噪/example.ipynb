{
  "nbformat": 4,
  "nbformat_minor": 0,
  "metadata": {
    "colab": {
      "provenance": []
    },
    "kernelspec": {
      "name": "python3",
      "display_name": "Python 3"
    },
    "language_info": {
      "name": "python"
    }
  },
  "cells": [
    {
      "cell_type": "code",
      "execution_count": null,
      "metadata": {
        "id": "ULbTKTQ-wGHA"
      },
      "outputs": [],
      "source": [
        "!pip install \"modelscope[multi-modal]\"\n",
        "from modelscope.pipelines import pipeline\n",
        "from modelscope.utils.constant import Tasks\n",
        "\n",
        "ans = pipeline(\n",
        "    Tasks.acoustic_noise_suppression,\n",
        "    model='damo/speech_frcrn_ans_cirm_16k')\n",
        "result = ans(\n",
        "    '/content/testnoise.wav',\n",
        "    output_path='output.wav')\n"
      ]
    }
  ]
}